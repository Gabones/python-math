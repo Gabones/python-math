{
  "cells": [
    {
      "cell_type": "markdown",
      "metadata": {
        "id": "view-in-github",
        "colab_type": "text"
      },
      "source": [
        "<a href=\"https://colab.research.google.com/github/Gabones/PythonMath/blob/main/MXC_pymath_linalg_BUGHUNT.ipynb\" target=\"_parent\"><img src=\"https://colab.research.google.com/assets/colab-badge.svg\" alt=\"Open In Colab\"/></a>"
      ]
    },
    {
      "cell_type": "markdown",
      "metadata": {
        "id": "oPltxQ8-4kX0"
      },
      "source": [
        "# COURSE: Master math by coding in Python\n",
        "## SECTION: Linear algebra\n",
        "\n",
        "#### www.udemy.com/master-math-with-python\n",
        "#### INSTRUCTOR: sincxpress.com\n",
        "\n",
        "Note about this code: Each video in this section of the course corresponds to a section of code below. Please note that this code roughly matches the code shown in the live recording, but is not exactly the same -- the variable names, order of lines, and parameters may be slightly different. "
      ]
    },
    {
      "cell_type": "code",
      "execution_count": 1,
      "metadata": {
        "id": "1s3eqSgg4kX3"
      },
      "outputs": [],
      "source": [
        "import numpy as np\n",
        "import sympy as sym\n",
        "import matplotlib.pyplot as plt\n",
        "from IPython.display import display, Math"
      ]
    },
    {
      "cell_type": "markdown",
      "metadata": {
        "id": "5sPvakay4kX4"
      },
      "source": [
        "#Seção 12 - Linear algebra BUG HUNT!!"
      ]
    },
    {
      "cell_type": "code",
      "execution_count": 2,
      "metadata": {
        "colab": {
          "base_uri": "https://localhost:8080/",
          "height": 58
        },
        "id": "PnPrgXWN4kX5",
        "outputId": "13e67ac0-77d1-4b17-e580-bc14618e3f13"
      },
      "outputs": [
        {
          "output_type": "display_data",
          "data": {
            "text/plain": [
              "<IPython.core.display.Math object>"
            ],
            "text/latex": "$\\displaystyle \\left[\\begin{matrix}-2\\\\3\\end{matrix}\\right]$"
          },
          "metadata": {}
        }
      ],
      "source": [
        "# create a column vector\n",
        "cv = np.array([[-2],[3]])\n",
        "\n",
        "display(Math(sym.latex(sym.sympify(cv))))"
      ]
    },
    {
      "cell_type": "code",
      "execution_count": 7,
      "metadata": {
        "colab": {
          "base_uri": "https://localhost:8080/",
          "height": 269
        },
        "id": "GabGXGBx4kX6",
        "outputId": "0caa5220-448a-4b5b-b4a3-2448885bd01e"
      },
      "outputs": [
        {
          "output_type": "display_data",
          "data": {
            "text/plain": [
              "<Figure size 432x288 with 1 Axes>"
            ],
            "image/png": "[encoded data removed]"
          },
          "metadata": {
            "needs_background": "light"
          }
        }
      ],
      "source": [
        "# visualize scalar-vector multiplication\n",
        "\n",
        "v = np.array([-2,2])\n",
        "s = .7\n",
        "\n",
        "sv = s*v\n",
        "plt.plot([0,v[0]],[0,v[1]],'ro-',linewidth=3,label='v')\n",
        "plt.plot([0,sv[0]],[0,sv[1]],'o-',linewidth=3,label='sv')\n",
        "    \n",
        "plt.axis('square')\n",
        "plt.legend()\n",
        "plt.axis([-3,3,-3,3])\n",
        "plt.grid()\n",
        "plt.show()"
      ]
    },
    {
      "cell_type": "code",
      "execution_count": 10,
      "metadata": {
        "colab": {
          "base_uri": "https://localhost:8080/"
        },
        "id": "WT3MQnSi4kX6",
        "outputId": "71eea01d-7dab-4f4a-8da5-c6541dc3b67d"
      },
      "outputs": [
        {
          "output_type": "stream",
          "name": "stdout",
          "text": [
            "9.2684668853172\t9.2684668853172\n"
          ]
        }
      ],
      "source": [
        "# algorithm to compute the dot product\n",
        "v = np.random.randn(7)\n",
        "w = np.random.randn(7)\n",
        "\n",
        "dp1 = 0\n",
        "for i in range(0,len(v)):\n",
        "    dp1 += v[i]*w[i]\n",
        "\n",
        "dp2 = np.dot(v,w)\n",
        "\n",
        "print(str(dp1) + '\\t' + str(dp2))"
      ]
    },
    {
      "cell_type": "code",
      "execution_count": 12,
      "metadata": {
        "colab": {
          "base_uri": "https://localhost:8080/"
        },
        "id": "M58xGhMy4kX8",
        "outputId": "899c0f7f-4ffb-4841-c70c-89236df08a2b"
      },
      "outputs": [
        {
          "output_type": "stream",
          "name": "stdout",
          "text": [
            "0.8766840129961417\n",
            "0.8766840129961415\n"
          ]
        }
      ],
      "source": [
        "# number of data points\n",
        "n = 10\n",
        "\n",
        "# data\n",
        "data1 = np.arange(0,n) + np.random.randn(n)\n",
        "data2 = np.arange(0,n) + np.random.randn(n)\n",
        "\n",
        "# mean-center\n",
        "data1 -= np.mean(data1)\n",
        "data2 -= np.mean(data2)\n",
        "\n",
        "# compute correlation\n",
        "numer = np.dot(data1,data2)\n",
        "denom = np.sqrt( np.dot(data1,data1) ) * np.sqrt(np.dot(data2,data2))\n",
        "r1 = numer/denom\n",
        "\n",
        "# confirm with numpy function\n",
        "r2 = np.corrcoef(data1,data2)[1][0]\n",
        "\n",
        "print(r1)\n",
        "print(r2)"
      ]
    },
    {
      "cell_type": "code",
      "execution_count": 20,
      "metadata": {
        "colab": {
          "base_uri": "https://localhost:8080/"
        },
        "id": "DYbm3v404kX9",
        "outputId": "afe052ae-cbf6-4bac-d594-aae90e80aa17"
      },
      "outputs": [
        {
          "output_type": "stream",
          "name": "stdout",
          "text": [
            "[[0. 0. 0. 0. 0.]\n",
            " [0. 0. 0. 0. 0.]\n",
            " [0. 0. 0. 0. 0.]\n",
            " [0. 0. 0. 0. 0.]\n",
            " [0. 0. 0. 0. 0.]\n",
            " [0. 0. 0. 0. 0.]]\n"
          ]
        }
      ],
      "source": [
        "# outer product computation\n",
        "o1 = np.random.randint(0,10,6)\n",
        "o2 = np.random.randint(0,10,5)\n",
        "\n",
        "outermat = np.zeros((len(o1),len(o2)))\n",
        "\n",
        "for i in range(len(o1)):\n",
        "    outermat[i,:] = o1[i]*o2\n",
        "    \n",
        "print(outermat-np.outer(o1,o2))"
      ]
    },
    {
      "cell_type": "code",
      "execution_count": 22,
      "metadata": {
        "colab": {
          "base_uri": "https://localhost:8080/"
        },
        "id": "DiuXF9jN4kX-",
        "outputId": "50801d6b-c76e-4864-f917-2b2369124266"
      },
      "outputs": [
        {
          "output_type": "execute_result",
          "data": {
            "text/plain": [
              "array([[-0.29770514,  0.37107627, -0.0606169 ,  0.3040611 ,  0.26438361],\n",
              "       [-0.33538169, -1.32893666, -0.54492936,  0.31096825, -1.16258947],\n",
              "       [-0.42839081, -1.25492963,  0.67565719, -1.00348618, -0.03523249],\n",
              "       [-0.49573872,  0.71547047, -0.18722852,  2.03507656, -0.33965081],\n",
              "       [ 1.01183033,  0.63741052,  1.22011101,  0.57742768,  0.48593056]])"
            ]
          },
          "metadata": {},
          "execution_count": 22
        }
      ],
      "source": [
        "# matrix multiplication\n",
        "A = np.random.randn(5,5)\n",
        "I = np.eye(5)\n",
        "\n",
        "A@I"
      ]
    },
    {
      "cell_type": "code",
      "execution_count": 24,
      "metadata": {
        "colab": {
          "base_uri": "https://localhost:8080/"
        },
        "id": "Pj8VQ8ys4kX_",
        "outputId": "c93701bd-205f-4714-9256-d2e966f33a9b"
      },
      "outputs": [
        {
          "output_type": "stream",
          "name": "stdout",
          "text": [
            "[[-0.0844773  -0.86386871  0.11853373 -0.1712714   1.72443802]\n",
            " [ 0.23831156 -0.28089663 -1.20277802 -0.46211527  0.5025633 ]\n",
            " [ 1.26941704 -1.92292517 -1.44982162  1.22459345 -1.699476  ]\n",
            " [ 0.64255604 -0.86349463  0.37787061  1.94572809 -0.53494107]\n",
            " [-1.11924738  0.87861598 -0.54805108 -0.78191742 -0.45311847]\n",
            " [ 1.07608921  2.14364859  0.06970224  0.76411981  0.81980395]\n",
            " [ 2.2848226  -0.5738241   1.24792652 -2.57351426  0.06058538]\n",
            " [ 0.10583477  0.90995295  1.19797792 -2.05441184  0.21317604]]\n",
            " \n",
            "[[-0.0844773  -0.86386871  0.11853373 -0.1712714   1.72443802]\n",
            " [ 0.23831156 -0.28089663 -1.20277802 -0.46211527  0.5025633 ]\n",
            " [ 1.26941704 -1.92292517 -1.44982162  1.22459345 -1.699476  ]\n",
            " [ 0.64255604 -0.86349463  0.37787061  1.94572809 -0.53494107]\n",
            " [-1.11924738  0.87861598 -0.54805108 -0.78191742 -0.45311847]\n",
            " [ 1.07608921  2.14364859  0.06970224  0.76411981  0.81980395]\n",
            " [ 2.2848226  -0.5738241   1.24792652 -2.57351426  0.06058538]\n",
            " [ 0.10583477  0.90995295  1.19797792 -2.05441184  0.21317604]]\n"
          ]
        }
      ],
      "source": [
        "# matrix multiplication\n",
        "A = np.random.randn(8,5)\n",
        "I = np.eye(5)\n",
        "\n",
        "print(A)\n",
        "print(' ')\n",
        "print(A@I)"
      ]
    },
    {
      "cell_type": "code",
      "execution_count": 28,
      "metadata": {
        "colab": {
          "base_uri": "https://localhost:8080/"
        },
        "id": "oey7SrwZ4kX_",
        "outputId": "0eba6904-bcb1-42f6-94e5-cd280c503ad2"
      },
      "outputs": [
        {
          "output_type": "execute_result",
          "data": {
            "text/plain": [
              "array([[ 1., -0., -0.,  0.,  0.],\n",
              "       [-0.,  1.,  0.,  0.,  0.],\n",
              "       [-0., -0.,  1.,  0.,  0.],\n",
              "       [-0.,  0., -0.,  1.,  0.],\n",
              "       [-0., -0., -0., -0.,  1.]])"
            ]
          },
          "metadata": {},
          "execution_count": 28
        }
      ],
      "source": [
        "# random matrices are invertible\n",
        "A = np.random.randint(-5,6,(5,5))\n",
        "Ainv = np.linalg.inv(A)\n",
        "\n",
        "np.round(A@Ainv,4)"
      ]
    },
    {
      "cell_type": "code",
      "execution_count": 30,
      "metadata": {
        "colab": {
          "base_uri": "https://localhost:8080/",
          "height": 279
        },
        "id": "WV4vvcAm4kYA",
        "outputId": "5ed48c3f-7e23-455d-b1e6-7d474cacbdc6"
      },
      "outputs": [
        {
          "output_type": "display_data",
          "data": {
            "text/plain": [
              "<Figure size 432x288 with 1 Axes>"
            ],
            "image/png": "[encoded data removed]"
          },
          "metadata": {
            "needs_background": "light"
          }
        }
      ],
      "source": [
        "# plot the eigenspectrum\n",
        "# the matrix\n",
        "M = np.random.randint(-5,5,(5,5))\n",
        "M = M@M.T\n",
        "\n",
        "# its eigendecomposition\n",
        "eigvals,eigvecs = np.linalg.eig(M)\n",
        "\n",
        "plt.plot(np.matrix.flatten(eigvals),'s-')\n",
        "plt.xlabel('Components')\n",
        "plt.ylabel('Eigenvalues')\n",
        "\n",
        "plt.show()"
      ]
    },
    {
      "cell_type": "code",
      "execution_count": 33,
      "metadata": {
        "colab": {
          "base_uri": "https://localhost:8080/",
          "height": 113
        },
        "id": "y-ROjDE34kYB",
        "outputId": "f6174f23-5cba-4684-e493-ba6fdeebdce7"
      },
      "outputs": [
        {
          "output_type": "display_data",
          "data": {
            "text/plain": [
              "<Figure size 432x288 with 3 Axes>"
            ],
            "image/png": "[encoded data removed]"
          },
          "metadata": {
            "needs_background": "light"
          }
        }
      ],
      "source": [
        "# Reconstruct a matrix based on its SVD\n",
        "A = np.random.randint(-10,11,(10,20))\n",
        "\n",
        "U,s,V = np.linalg.svd(A)\n",
        "\n",
        "# reconstruct S\n",
        "S = np.zeros(np.shape(A))\n",
        "for i in range(len(s)):\n",
        "  S[i,i] = s[i]\n",
        "\n",
        "Arecon = U@S@V\n",
        "\n",
        "fig,ax = plt.subplots(1,3)\n",
        "\n",
        "ax[0].imshow(A,vmin=-10,vmax=10)\n",
        "ax[0].set_title('A')\n",
        "\n",
        "ax[1].imshow(Arecon,vmin=-10,vmax=10)\n",
        "ax[1].set_title('Arecon')\n",
        "\n",
        "ax[2].imshow(A-Arecon,vmin=-10,vmax=10)\n",
        "ax[2].set_title('A-Arecon')\n",
        "\n",
        "plt.show()"
      ]
    }
  ],
  "metadata": {
    "kernelspec": {
      "display_name": "Python 3",
      "language": "python",
      "name": "python3"
    },
    "language_info": {
      "codemirror_mode": {
        "name": "ipython",
        "version": 3
      },
      "file_extension": ".py",
      "mimetype": "text/x-python",
      "name": "python",
      "nbconvert_exporter": "python",
      "pygments_lexer": "ipython3",
      "version": "3.7.3"
    },
    "colab": {
      "provenance": [],
      "include_colab_link": true
    }
  },
  "nbformat": 4,
  "nbformat_minor": 0
}