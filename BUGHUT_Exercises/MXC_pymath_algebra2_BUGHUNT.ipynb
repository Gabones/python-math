{
  "cells": [
    {
      "cell_type": "markdown",
      "metadata": {
        "id": "view-in-github",
        "colab_type": "text"
      },
      "source": [
        "<a href=\"https://colab.research.google.com/github/Gabones/PythonMath/blob/main/MXC_pymath_algebra2_BUGHUNT.ipynb\" target=\"_parent\"><img src=\"https://colab.research.google.com/assets/colab-badge.svg\" alt=\"Open In Colab\"/></a>"
      ]
    },
    {
      "cell_type": "code",
      "source": [
        "import numpy as np\n",
        "import matplotlib.pyplot as plt\n",
        "import sympy as sym\n",
        "from IPython.display import display, Math\n",
        "from sympy.abc import x\n",
        "import scipy as sp"
      ],
      "metadata": {
        "id": "VzeorUZLh11S"
      },
      "execution_count": null,
      "outputs": []
    },
    {
      "cell_type": "markdown",
      "metadata": {
        "id": "1MSOT_kfY680"
      },
      "source": [
        "#Seção 7 - Algebra 2 BUG HUNT!"
      ]
    },
    {
      "cell_type": "code",
      "execution_count": null,
      "metadata": {
        "colab": {
          "base_uri": "https://localhost:8080/"
        },
        "id": "F0oJHA2vY682",
        "outputId": "c934c5be-f3d4-4266-88ad-ed2846d16bb0"
      },
      "outputs": [
        {
          "output_type": "stream",
          "name": "stdout",
          "text": [
            "[1, 3, 4, 1, 6]\n"
          ]
        }
      ],
      "source": [
        "# create a list\n",
        "lst = [1,3,4,1,6]\n",
        "\n",
        "print( lst )"
      ]
    },
    {
      "cell_type": "code",
      "execution_count": null,
      "metadata": {
        "colab": {
          "base_uri": "https://localhost:8080/"
        },
        "id": "FtH9EKnzY683",
        "outputId": "3c2396ce-6b85-4833-eed7-88f5fa3ce779"
      },
      "outputs": [
        {
          "output_type": "stream",
          "name": "stdout",
          "text": [
            "15\n"
          ]
        }
      ],
      "source": [
        "# add all the numbers together\n",
        "\n",
        "print( np.sum(lst) )"
      ]
    },
    {
      "cell_type": "code",
      "execution_count": null,
      "metadata": {
        "colab": {
          "base_uri": "https://localhost:8080/",
          "height": 265
        },
        "id": "eUka3noxY684",
        "outputId": "1dc22992-5c9e-4938-e928-913e9530cb9a"
      },
      "outputs": [
        {
          "output_type": "display_data",
          "data": {
            "text/plain": [
              "<Figure size 432x288 with 1 Axes>"
            ],
            "image/png": "[encoded data removed]"
          },
          "metadata": {
            "needs_background": "light"
          }
        }
      ],
      "source": [
        "# plot the cumulative sum of a list of numbers\n",
        "l = np.arange(-4,10)\n",
        "\n",
        "plt.plot(l, 'rs-')\n",
        "plt.plot(np.cumsum(l),'bo-')\n",
        "plt.legend({'list','cumsum'})\n",
        "plt.show()"
      ]
    },
    {
      "cell_type": "code",
      "execution_count": null,
      "metadata": {
        "colab": {
          "base_uri": "https://localhost:8080/",
          "height": 56
        },
        "id": "bekt7AABY685",
        "outputId": "c4120154-28cc-4647-eafd-21faa7316292"
      },
      "outputs": [
        {
          "output_type": "stream",
          "name": "stdout",
          "text": [
            "[-1.07097339+0.j          0.5354867 +0.67840844j  0.5354867 -0.67840844j]\n"
          ]
        },
        {
          "output_type": "display_data",
          "data": {
            "text/plain": [
              "<IPython.core.display.Math object>"
            ],
            "text/latex": "$\\displaystyle \\operatorname{Poly}{\\left( 5 x^{3} - 2 x + 4, x, domain=\\mathbb{Z} \\right)}$"
          },
          "metadata": {}
        }
      ],
      "source": [
        "### the equation:\n",
        "# 4 - 2x + 5x^3 = 0\n",
        "\n",
        "# define the coefficients\n",
        "# coefs = [4,-2,5]\n",
        "coefs = [5, 0, -2, 4]\n",
        "\n",
        "# solve\n",
        "roots = np.roots(coefs)\n",
        "\n",
        "# and display\n",
        "\n",
        "\n",
        "p = sym.Poly(coefs,x)\n",
        "\n",
        "display(Math(sym.latex(p)))"
      ]
    },
    {
      "cell_type": "code",
      "execution_count": null,
      "metadata": {
        "colab": {
          "base_uri": "https://localhost:8080/"
        },
        "id": "dLpFtEysY685",
        "outputId": "c9ee4dac-3ee0-4c41-dab6-845c2cf4900d"
      },
      "outputs": [
        {
          "output_type": "stream",
          "name": "stdout",
          "text": [
            "[(-2-1j), (-2+1j)]\n"
          ]
        }
      ],
      "source": [
        "def quadeq(a,b,c):\n",
        "\n",
        "    # compute\n",
        "    out0 = ( -b - np.lib.scimath.sqrt(b**2 - 4*a*c) ) / (2*a)\n",
        "    out1 = ( -b + np.lib.scimath.sqrt(b**2 - 4*a*c) ) / (2*a)\n",
        "    \n",
        "    # output\n",
        "    return [out0, out1]\n",
        "\n",
        "# test the function\n",
        "print(quadeq(1,4,5))"
      ]
    },
    {
      "cell_type": "code",
      "execution_count": null,
      "metadata": {
        "colab": {
          "base_uri": "https://localhost:8080/",
          "height": 269
        },
        "id": "jqJgAdqUY686",
        "outputId": "60c85db5-2bb5-4321-a9f8-d20144bbbd18"
      },
      "outputs": [
        {
          "output_type": "display_data",
          "data": {
            "text/plain": [
              "<Figure size 432x288 with 1 Axes>"
            ],
            "image/png": "[encoded data removed]"
          },
          "metadata": {
            "needs_background": "light"
          }
        }
      ],
      "source": [
        "# create a complex number\n",
        "\n",
        "real_part = 4\n",
        "imag_part = -6\n",
        "\n",
        "cn = 4-6j\n",
        "\n",
        "plt.plot(np.real(cn),np.imag(cn),'ro')\n",
        "plt.grid('on')\n",
        "plt.axis('square')\n",
        "plt.axis([-10,10,-10,10])\n",
        "plt.show()"
      ]
    },
    {
      "cell_type": "code",
      "execution_count": null,
      "metadata": {
        "colab": {
          "base_uri": "https://localhost:8080/",
          "height": 38
        },
        "id": "UN3mah2aY687",
        "outputId": "1412f60e-29fe-467f-f6d3-dea795bbb992"
      },
      "outputs": [
        {
          "output_type": "display_data",
          "data": {
            "text/plain": [
              "<IPython.core.display.Math object>"
            ],
            "text/latex": "$\\displaystyle z\\times z^* = a^{2} + b^{2}$"
          },
          "metadata": {}
        }
      ],
      "source": [
        "# symbolic complex number\n",
        "a,b = sym.symbols('a,b',real=True)\n",
        "\n",
        "z = a + b*sym.I\n",
        "display(Math('z\\\\times z^* = %s' %sym.latex(sym.expand(z*sym.conjugate(z)))))"
      ]
    },
    {
      "cell_type": "code",
      "execution_count": null,
      "metadata": {
        "colab": {
          "base_uri": "https://localhost:8080/",
          "height": 279
        },
        "id": "XmxEOX79Y688",
        "outputId": "8b8923eb-fb44-431b-8137-543067c65552"
      },
      "outputs": [
        {
          "output_type": "display_data",
          "data": {
            "text/plain": [
              "<Figure size 432x288 with 1 Axes>"
            ],
            "image/png": "[encoded data removed]"
          },
          "metadata": {
            "needs_background": "light"
          }
        }
      ],
      "source": [
        "# define the phase angles\n",
        "x = np.linspace(0,2*np.pi,100)\n",
        "\n",
        "# generate the plot\n",
        "plt.plot(np.cos(x),np.sin(x),'k')\n",
        "\n",
        "# draw one vector from the origin\n",
        "phs = 1*np.pi/4\n",
        "plt.plot([0,np.cos(phs)],[0,np.sin(phs)],'r-')\n",
        "plt.plot(np.cos(phs),np.sin(phs),'ro')\n",
        "\n",
        "\n",
        "# draw axis lines\n",
        "plt.plot([-1.3,1.3],[0,0],'--',color=[.8,.8,.8])\n",
        "plt.plot([0,0],[-1.3,1.3],'--',color=[.8,.8,.8])\n",
        "\n",
        "# make it look nicer\n",
        "plt.axis('square')\n",
        "plt.axis([-1.3,1.3,-1.3,1.3])\n",
        "plt.ylabel('sine(x)')\n",
        "plt.xlabel('cosine(x)')\n",
        "plt.plot()\n",
        "\n",
        "plt.show()"
      ]
    },
    {
      "cell_type": "code",
      "execution_count": null,
      "metadata": {
        "colab": {
          "base_uri": "https://localhost:8080/",
          "height": 265
        },
        "id": "cPuq_4okY689",
        "outputId": "609f178f-8566-44e5-c582-f04579a27bd1"
      },
      "outputs": [
        {
          "output_type": "display_data",
          "data": {
            "text/plain": [
              "<Figure size 432x288 with 1 Axes>"
            ],
            "image/png": "[encoded data removed]"
          },
          "metadata": {
            "needs_background": "light"
          }
        }
      ],
      "source": [
        "a =   2 # lower bound\n",
        "b = 100 # upper bound\n",
        "n =   3 # number of steps\n",
        "\n",
        "lo = np.logspace(np.log10(a),np.log10(b), n)\n",
        "li = np.linspace(a,b, n)\n",
        "\n",
        "plt.plot(li,lo,'s-',label='log')\n",
        "plt.plot(li,li,'o-',label='linear')\n",
        "\n",
        "plt.legend(['log','linear'])\n",
        "plt.axis('square')\n",
        "plt.show()"
      ]
    },
    {
      "cell_type": "code",
      "execution_count": null,
      "metadata": {
        "colab": {
          "base_uri": "https://localhost:8080/",
          "height": 281
        },
        "id": "tM0Q5bkbY689",
        "outputId": "f3a99eef-18a8-4e13-c837-afaa9777d4eb"
      },
      "outputs": [
        {
          "output_type": "display_data",
          "data": {
            "text/plain": [
              "<Figure size 432x288 with 1 Axes>"
            ],
            "image/png": "[encoded data removed]"
          },
          "metadata": {
            "needs_background": "light"
          }
        }
      ],
      "source": [
        "## Goal is to plot the point on the function closest to f(x)=.5\n",
        "\n",
        "\n",
        "# x range\n",
        "x = np.linspace(-6,10,20)\n",
        "\n",
        "# the function f(x)\n",
        "fx = 1/(1+np.exp(x))\n",
        "\n",
        "# function maximum\n",
        "fmaxidx = np.argmin(abs(fx-.5))\n",
        "\n",
        "# draw the function\n",
        "plt.plot(x,fx,'bo-')\n",
        "plt.plot(x[fmaxidx],fx[fmaxidx],'rs')\n",
        "\n",
        "plt.title('Sigmoid function')\n",
        "plt.show()"
      ]
    },
    {
      "cell_type": "code",
      "execution_count": null,
      "metadata": {
        "colab": {
          "base_uri": "https://localhost:8080/",
          "height": 265
        },
        "id": "8p7tw3KeY68_",
        "outputId": "f190d0c3-76b7-4e11-9124-72ca6a98fdb5"
      },
      "outputs": [
        {
          "output_type": "display_data",
          "data": {
            "text/plain": [
              "<Figure size 432x288 with 1 Axes>"
            ],
            "image/png": "[encoded data removed]"
          },
          "metadata": {
            "needs_background": "light"
          }
        }
      ],
      "source": [
        "## Goal is to find the local minima by adding one character\n",
        "\n",
        "from scipy.signal import find_peaks\n",
        "\n",
        "# x range\n",
        "x = np.linspace(0,12*np.pi,200)\n",
        "\n",
        "# the function f(x)\n",
        "fx = -( np.cos(x) + x**(1/2) )\n",
        "\n",
        "# find peaks\n",
        "peeks = find_peaks(-fx)\n",
        "\n",
        "# draw the function\n",
        "plt.plot(x,fx)\n",
        "plt.plot(x[peeks[0]],fx[peeks[0]],'o')\n",
        "plt.show()"
      ]
    }
  ],
  "metadata": {
    "kernelspec": {
      "display_name": "Python 3",
      "language": "python",
      "name": "python3"
    },
    "language_info": {
      "codemirror_mode": {
        "name": "ipython",
        "version": 3
      },
      "file_extension": ".py",
      "mimetype": "text/x-python",
      "name": "python",
      "nbconvert_exporter": "python",
      "pygments_lexer": "ipython3",
      "version": "3.7.3"
    },
    "colab": {
      "provenance": [],
      "include_colab_link": true
    }
  },
  "nbformat": 4,
  "nbformat_minor": 0
}