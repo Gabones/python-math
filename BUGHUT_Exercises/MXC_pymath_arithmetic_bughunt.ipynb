{
  "cells": [
    {
      "cell_type": "markdown",
      "metadata": {
        "id": "view-in-github",
        "colab_type": "text"
      },
      "source": [
        "<a href=\"https://colab.research.google.com/github/Gabones/PythonMath/blob/main/MXC_pymath_arithmetic_bughunt.ipynb\" target=\"_parent\"><img src=\"https://colab.research.google.com/assets/colab-badge.svg\" alt=\"Open In Colab\"/></a>"
      ]
    },
    {
      "cell_type": "markdown",
      "metadata": {
        "id": "Ggjo6YRXVZlf"
      },
      "source": [
        "#Seção 2 - ARITHMETIC BUG HUNT!!"
      ]
    },
    {
      "cell_type": "code",
      "source": [
        "from IPython.display import display, Math"
      ],
      "metadata": {
        "id": "AVPYswUrVnKn"
      },
      "execution_count": null,
      "outputs": []
    },
    {
      "cell_type": "code",
      "execution_count": null,
      "metadata": {
        "colab": {
          "base_uri": "https://localhost:8080/"
        },
        "id": "LRQuT3GTVZlj",
        "outputId": "0d9b8ec8-c982-436d-fb49-dec6217fdee0"
      },
      "outputs": [
        {
          "output_type": "stream",
          "name": "stdout",
          "text": [
            "3\n"
          ]
        }
      ],
      "source": [
        "x = 1\n",
        "y = 2\n",
        "\n",
        "print(x+y)"
      ]
    },
    {
      "cell_type": "code",
      "execution_count": null,
      "metadata": {
        "colab": {
          "base_uri": "https://localhost:8080/",
          "height": 51
        },
        "id": "nR7ujHlMVZll",
        "outputId": "afef8ef4-5ef1-46b1-bb1b-4633d284d6f8"
      },
      "outputs": [
        {
          "output_type": "display_data",
          "data": {
            "text/plain": [
              "<IPython.core.display.Math object>"
            ],
            "text/latex": "$\\displaystyle \\frac{1}{2}$"
          },
          "metadata": {}
        }
      ],
      "source": [
        "display(Math('\\\\frac{1}{2}'))"
      ]
    },
    {
      "cell_type": "code",
      "execution_count": null,
      "metadata": {
        "colab": {
          "base_uri": "https://localhost:8080/",
          "height": 37
        },
        "id": "E6_r3GmsVZll",
        "outputId": "bff9e645-043b-46b8-8633-9cdb98a944a9"
      },
      "outputs": [
        {
          "output_type": "display_data",
          "data": {
            "text/plain": [
              "<IPython.core.display.Math object>"
            ],
            "text/latex": "$\\displaystyle 4 + 5 = 9$"
          },
          "metadata": {}
        }
      ],
      "source": [
        "x = 4\n",
        "y = 5\n",
        "display(Math('%g + %g = %g'%(x,y, x+y)))"
      ]
    },
    {
      "cell_type": "code",
      "execution_count": null,
      "metadata": {
        "colab": {
          "base_uri": "https://localhost:8080/",
          "height": 51
        },
        "id": "yQmt7yVMVZll",
        "outputId": "dd9d8254-69a7-4d18-8e1c-9504653c394c"
      },
      "outputs": [
        {
          "output_type": "display_data",
          "data": {
            "text/plain": [
              "<IPython.core.display.Math object>"
            ],
            "text/latex": "$\\displaystyle \\frac{4}{5} = 0.8$"
          },
          "metadata": {}
        }
      ],
      "source": [
        "display(Math('\\\\frac{%g}{%g} = %g'%(x,y,x/y)))"
      ]
    },
    {
      "cell_type": "code",
      "execution_count": null,
      "metadata": {
        "colab": {
          "base_uri": "https://localhost:8080/"
        },
        "id": "QTcytl3eVZlm",
        "outputId": "7c16c537-3460-4e5a-fc97-e39083678fb8"
      },
      "outputs": [
        {
          "output_type": "execute_result",
          "data": {
            "text/plain": [
              "9"
            ]
          },
          "metadata": {},
          "execution_count": 12
        }
      ],
      "source": [
        "3**2 # should equal 9"
      ]
    },
    {
      "cell_type": "code",
      "execution_count": null,
      "metadata": {
        "colab": {
          "base_uri": "https://localhost:8080/",
          "height": 78
        },
        "id": "deMV1u40VZlm",
        "outputId": "d440e8a0-4d57-40e8-f775-087b7ffc39e5"
      },
      "outputs": [
        {
          "output_type": "display_data",
          "data": {
            "text/plain": [
              "<IPython.core.display.Math object>"
            ],
            "text/latex": "$\\displaystyle 0\\times2 = 0$"
          },
          "metadata": {}
        },
        {
          "output_type": "display_data",
          "data": {
            "text/plain": [
              "<IPython.core.display.Math object>"
            ],
            "text/latex": "$\\displaystyle 1\\times2 = 2$"
          },
          "metadata": {}
        },
        {
          "output_type": "display_data",
          "data": {
            "text/plain": [
              "<IPython.core.display.Math object>"
            ],
            "text/latex": "$\\displaystyle 2\\times2 = 4$"
          },
          "metadata": {}
        }
      ],
      "source": [
        "for i in range(0,3):\n",
        "    display(Math('%g\\\\times2 = %g'%(i,i*2)))"
      ]
    },
    {
      "cell_type": "code",
      "execution_count": null,
      "metadata": {
        "colab": {
          "base_uri": "https://localhost:8080/"
        },
        "id": "7TNYp2LfVZlm",
        "outputId": "d6997708-784f-4211-f393-dbc8cef7b075"
      },
      "outputs": [
        {
          "output_type": "stream",
          "name": "stdout",
          "text": [
            "True\n"
          ]
        }
      ],
      "source": [
        "a = 10\n",
        "b = 20\n",
        "\n",
        "result = 2*a <= b\n",
        "\n",
        "print(result)"
      ]
    },
    {
      "cell_type": "code",
      "execution_count": null,
      "metadata": {
        "colab": {
          "base_uri": "https://localhost:8080/"
        },
        "id": "RoaSXNBIVZln",
        "outputId": "50471057-28e4-4f44-b6df-ac5db332530f"
      },
      "outputs": [
        {
          "output_type": "stream",
          "name": "stdout",
          "text": [
            "50 is greater than 40. Time to celebrate!\n"
          ]
        }
      ],
      "source": [
        "if a+b*2 > 40:\n",
        "    print(str(a+b*2) + ' is greater than ' + str(40) + '. Time to celebrate!')"
      ]
    },
    {
      "cell_type": "code",
      "execution_count": null,
      "metadata": {
        "colab": {
          "base_uri": "https://localhost:8080/"
        },
        "id": "frMIhUQFVZln",
        "outputId": "dcd44dfe-0791-4a5e-cc39-fa83c88e76d8"
      },
      "outputs": [
        {
          "output_type": "stream",
          "name": "stdout",
          "text": [
            "input a number!5\n",
            "5\n"
          ]
        }
      ],
      "source": [
        "var = input('input a number!')\n",
        "print(var)"
      ]
    },
    {
      "cell_type": "code",
      "execution_count": null,
      "metadata": {
        "colab": {
          "base_uri": "https://localhost:8080/"
        },
        "id": "pQW5SvwoVZln",
        "outputId": "98ee3293-9e6d-49a9-8977-aeae13eef112"
      },
      "outputs": [
        {
          "output_type": "execute_result",
          "data": {
            "text/plain": [
              "0.4"
            ]
          },
          "metadata": {},
          "execution_count": 21
        }
      ],
      "source": [
        "# division\n",
        "4/10"
      ]
    },
    {
      "cell_type": "code",
      "execution_count": null,
      "metadata": {
        "colab": {
          "base_uri": "https://localhost:8080/"
        },
        "id": "_nmDJufzVZlo",
        "outputId": "0017d79d-4f62-4a96-ea4c-7904f6d67a58"
      },
      "outputs": [
        {
          "output_type": "stream",
          "name": "stdout",
          "text": [
            "Input a number: 4\n",
            "Input another number: 5.1\n",
            "The sum of 4 and 5.1 is 9.1\n"
          ]
        }
      ],
      "source": [
        "# sum two numbers\n",
        "w = float(input('Input a number: '))\n",
        "z = float(input('Input another number: '))\n",
        "\n",
        "print('The sum of %g and %g is %g' %(w,z,w+z))\n"
      ]
    },
    {
      "cell_type": "code",
      "execution_count": null,
      "metadata": {
        "colab": {
          "base_uri": "https://localhost:8080/",
          "height": 51
        },
        "id": "fAhyU9E3VZlo",
        "outputId": "2df40527-e3ae-4ea2-866b-ed376ec3303b"
      },
      "outputs": [
        {
          "output_type": "display_data",
          "data": {
            "text/plain": [
              "<IPython.core.display.Math object>"
            ],
            "text/latex": "$\\displaystyle \\frac{9}{3} = 3.0$"
          },
          "metadata": {}
        }
      ],
      "source": [
        "display(Math('\\\\frac{9}{3} = ' + str(9/3)))"
      ]
    },
    {
      "cell_type": "code",
      "execution_count": null,
      "metadata": {
        "colab": {
          "base_uri": "https://localhost:8080/",
          "height": 51
        },
        "id": "GKs7zITrVZlo",
        "outputId": "d3693925-9591-4d72-c74d-6371707b0be3"
      },
      "outputs": [
        {
          "output_type": "display_data",
          "data": {
            "text/plain": [
              "<IPython.core.display.Math object>"
            ],
            "text/latex": "$\\displaystyle \\frac{9}{4} = 2.25$"
          },
          "metadata": {}
        }
      ],
      "source": [
        "display(Math('\\\\frac{9}{4} = ' + str(9/4)))"
      ]
    },
    {
      "cell_type": "code",
      "execution_count": null,
      "metadata": {
        "colab": {
          "base_uri": "https://localhost:8080/"
        },
        "id": "lCdu2gExVZlp",
        "outputId": "bff98b77-1cef-46ec-8f19-a4e1cab78585"
      },
      "outputs": [
        {
          "output_type": "stream",
          "name": "stdout",
          "text": [
            "1\n",
            "2\n",
            "3\n",
            "4\n",
            "5\n",
            "6\n",
            "7\n",
            "8\n",
            "9\n",
            "10\n"
          ]
        }
      ],
      "source": [
        "# print the numbers 1 through 10\n",
        "t = 1\n",
        "while t<11:\n",
        "    print(t)\n",
        "    t += 1"
      ]
    }
  ],
  "metadata": {
    "kernelspec": {
      "display_name": "Python 3",
      "language": "python",
      "name": "python3"
    },
    "language_info": {
      "codemirror_mode": {
        "name": "ipython",
        "version": 3
      },
      "file_extension": ".py",
      "mimetype": "text/x-python",
      "name": "python",
      "nbconvert_exporter": "python",
      "pygments_lexer": "ipython3",
      "version": "3.7.3"
    },
    "colab": {
      "provenance": [],
      "include_colab_link": true
    }
  },
  "nbformat": 4,
  "nbformat_minor": 0
}