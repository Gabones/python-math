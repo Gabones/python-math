{
  "cells": [
    {
      "cell_type": "markdown",
      "metadata": {
        "id": "view-in-github",
        "colab_type": "text"
      },
      "source": [
        "<a href=\"https://colab.research.google.com/github/Gabones/PythonMath/blob/main/MXC_pymath_algebra1_BUGHUNT.ipynb\" target=\"_parent\"><img src=\"https://colab.research.google.com/assets/colab-badge.svg\" alt=\"Open In Colab\"/></a>"
      ]
    },
    {
      "cell_type": "markdown",
      "metadata": {
        "id": "ftqPClMCZGhH"
      },
      "source": [
        "#Seção 5 - Algebra BUG HUNT!"
      ]
    },
    {
      "cell_type": "code",
      "source": [
        "import sympy as sym\n",
        "from IPython.display import display, Math"
      ],
      "metadata": {
        "id": "xC3uqmGmZNvE"
      },
      "execution_count": 12,
      "outputs": []
    },
    {
      "cell_type": "code",
      "execution_count": 3,
      "metadata": {
        "id": "AA1t5nQ3ZGhJ"
      },
      "outputs": [],
      "source": [
        "from sympy.abc import x\n",
        "\n",
        "x = 4\n"
      ]
    },
    {
      "cell_type": "code",
      "execution_count": 5,
      "metadata": {
        "id": "BS1IqYO-ZGhL"
      },
      "outputs": [],
      "source": [
        "a,b,c,d = sym.symbols('a,b,c,d')\n",
        "\n",
        "expr = 4*b + 5*a*a - c**3 + 5*d\n"
      ]
    },
    {
      "cell_type": "code",
      "execution_count": 6,
      "metadata": {
        "colab": {
          "base_uri": "https://localhost:8080/"
        },
        "id": "aXWlHisDZGhL",
        "outputId": "ca8da70e-e518-48a1-88b8-317c23d373ec"
      },
      "outputs": [
        {
          "output_type": "execute_result",
          "data": {
            "text/plain": [
              "10"
            ]
          },
          "metadata": {},
          "execution_count": 6
        }
      ],
      "source": [
        "import math\n",
        "math.gcd(30,50)"
      ]
    },
    {
      "cell_type": "code",
      "execution_count": 8,
      "metadata": {
        "colab": {
          "base_uri": "https://localhost:8080/"
        },
        "id": "9KRSettGZGhM",
        "outputId": "aac99254-2330-4861-b46c-b657c02413a0"
      },
      "outputs": [
        {
          "output_type": "execute_result",
          "data": {
            "text/plain": [
              "[2]"
            ]
          },
          "metadata": {},
          "execution_count": 8
        }
      ],
      "source": [
        "x = sym.symbols('x')\n",
        "\n",
        "expr = 4*x - 8\n",
        "sym.solve(expr)"
      ]
    },
    {
      "cell_type": "code",
      "execution_count": 14,
      "metadata": {
        "colab": {
          "base_uri": "https://localhost:8080/",
          "height": 58
        },
        "id": "LyR9Q8XsZGhM",
        "outputId": "4bbb12cb-d8b6-4536-a4a9-e8184e138f34"
      },
      "outputs": [
        {
          "output_type": "display_data",
          "data": {
            "text/plain": [
              "<IPython.core.display.Math object>"
            ],
            "text/latex": "$\\displaystyle \\left[\\begin{matrix}1 & 2\\\\3 & 4\\end{matrix}\\right]$"
          },
          "metadata": {}
        }
      ],
      "source": [
        "import numpy as np\n",
        "\n",
        "A = np.array( [ [1,2],[3,4] ] )\n",
        "# make it look nice\n",
        "display(Math(sym.latex(sym.sympify(A))))"
      ]
    },
    {
      "cell_type": "code",
      "execution_count": 16,
      "metadata": {
        "colab": {
          "base_uri": "https://localhost:8080/"
        },
        "id": "d3E_V0GsZGhM",
        "outputId": "19e2025c-fdfd-497b-a7e1-46b5e99a33d4"
      },
      "outputs": [
        {
          "output_type": "stream",
          "name": "stdout",
          "text": [
            "2 was present 2 times.\n",
            "11 was present 1 times.\n"
          ]
        }
      ],
      "source": [
        "fact_dict = sym.factorint(44)\n",
        "allkeys = fact_dict.keys()\n",
        "\n",
        "for i in fact_dict:\n",
        "    print('%g was present %g times.' %(i,fact_dict[i]))\n"
      ]
    },
    {
      "cell_type": "code",
      "execution_count": 19,
      "metadata": {
        "colab": {
          "base_uri": "https://localhost:8080/",
          "height": 38
        },
        "id": "qgJ2zC_oZGhN",
        "outputId": "8d433bb7-5528-41a6-bd2d-cd4ae3043ece"
      },
      "outputs": [
        {
          "output_type": "execute_result",
          "data": {
            "text/plain": [
              "20 - 5*y**2"
            ],
            "text/latex": "$\\displaystyle 20 - 5 y^{2}$"
          },
          "metadata": {},
          "execution_count": 19
        }
      ],
      "source": [
        "x,y = sym.symbols('x,y')\n",
        "\n",
        "expr = 4*x - 5*y**2\n",
        "\n",
        "expr.subs({x: 5})\n"
      ]
    },
    {
      "cell_type": "code",
      "execution_count": 23,
      "metadata": {
        "colab": {
          "base_uri": "https://localhost:8080/",
          "height": 51
        },
        "id": "Gnq-dyX8ZGhN",
        "outputId": "4756d6e7-79e1-4c1a-8558-f84df36da30a"
      },
      "outputs": [
        {
          "output_type": "display_data",
          "data": {
            "text/plain": [
              "<IPython.core.display.Math object>"
            ],
            "text/latex": "$\\displaystyle \\frac{5}{9}$"
          },
          "metadata": {}
        }
      ],
      "source": [
        "# goal is to show a fraction\n",
        "\n",
        "f = sym.sympify(5)/sym.sympify(9)\n",
        "\n",
        "display(Math(sym.latex(f)))\n"
      ]
    },
    {
      "cell_type": "code",
      "execution_count": 25,
      "metadata": {
        "colab": {
          "base_uri": "https://localhost:8080/"
        },
        "id": "w5mAp1mrZGhN",
        "outputId": "dd3ee6ad-9e32-434a-e29c-f4d1c92cca63"
      },
      "outputs": [
        {
          "output_type": "execute_result",
          "data": {
            "text/plain": [
              "[5, 3, 7]"
            ]
          },
          "metadata": {},
          "execution_count": 25
        }
      ],
      "source": [
        "# print the last 3 items from a list\n",
        "lst = [1,3,2,5,4,6,7,5,3,7]\n",
        "lst[-3:]\n"
      ]
    },
    {
      "cell_type": "code",
      "execution_count": 27,
      "metadata": {
        "colab": {
          "base_uri": "https://localhost:8080/"
        },
        "id": "_5wIsTyvZGhO",
        "outputId": "01cabd21-7701-4527-fcde-695a33eafd79"
      },
      "outputs": [
        {
          "output_type": "execute_result",
          "data": {
            "text/plain": [
              "[-x/2]"
            ]
          },
          "metadata": {},
          "execution_count": 27
        }
      ],
      "source": [
        "from sympy.abc import x,y\n",
        "\n",
        "expr = 2*x + 4*y\n",
        "\n",
        "# solve for y\n",
        "sym.solve(expr, y)"
      ]
    },
    {
      "cell_type": "code",
      "execution_count": 30,
      "metadata": {
        "colab": {
          "base_uri": "https://localhost:8080/",
          "height": 58
        },
        "id": "3j16QlgvZGhO",
        "outputId": "8173a2c7-baf0-424b-c5d6-c147c00de5f2"
      },
      "outputs": [
        {
          "output_type": "display_data",
          "data": {
            "text/plain": [
              "<IPython.core.display.Math object>"
            ],
            "text/latex": "$\\displaystyle \\left[\\begin{matrix}1 & 2\\\\3 & 9\\end{matrix}\\right]$"
          },
          "metadata": {}
        }
      ],
      "source": [
        "import numpy as np\n",
        "\n",
        "A = np.array( [ [1,2],[3,4] ] )\n",
        "\n",
        "# set the element in the second row, second column to 9\n",
        "A[1,1] = 9\n",
        "display(Math(sym.latex(sym.sympify(A))))"
      ]
    }
  ],
  "metadata": {
    "kernelspec": {
      "display_name": "Python 3",
      "language": "python",
      "name": "python3"
    },
    "language_info": {
      "codemirror_mode": {
        "name": "ipython",
        "version": 3
      },
      "file_extension": ".py",
      "mimetype": "text/x-python",
      "name": "python",
      "nbconvert_exporter": "python",
      "pygments_lexer": "ipython3",
      "version": "3.7.3"
    },
    "colab": {
      "provenance": [],
      "include_colab_link": true
    }
  },
  "nbformat": 4,
  "nbformat_minor": 0
}