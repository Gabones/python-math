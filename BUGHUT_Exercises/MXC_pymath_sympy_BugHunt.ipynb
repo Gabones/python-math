{
  "nbformat": 4,
  "nbformat_minor": 0,
  "metadata": {
    "kernelspec": {
      "display_name": "Python 3",
      "language": "python",
      "name": "python3"
    },
    "language_info": {
      "codemirror_mode": {
        "name": "ipython",
        "version": 3
      },
      "file_extension": ".py",
      "mimetype": "text/x-python",
      "name": "python",
      "nbconvert_exporter": "python",
      "pygments_lexer": "ipython3",
      "version": "3.7.3"
    },
    "colab": {
      "provenance": [],
      "include_colab_link": true
    }
  },
  "cells": [
    {
      "cell_type": "markdown",
      "metadata": {
        "id": "view-in-github",
        "colab_type": "text"
      },
      "source": [
        "<a href=\"https://colab.research.google.com/github/Gabones/PythonMath/blob/main/MXC_pymath_sympy_BugHunt.ipynb\" target=\"_parent\"><img src=\"https://colab.research.google.com/assets/colab-badge.svg\" alt=\"Open In Colab\"/></a>"
      ]
    },
    {
      "cell_type": "markdown",
      "metadata": {
        "id": "aBZmNYuu5usX"
      },
      "source": [
        "#Seção 3 - Sympy and LaTex: Bug hunt!"
      ]
    },
    {
      "cell_type": "code",
      "metadata": {
        "colab": {
          "base_uri": "https://localhost:8080/",
          "height": 43
        },
        "id": "chSAqzod5usa",
        "outputId": "272f9430-e5b0-4e02-b62a-449013b55a72"
      },
      "source": [
        "import sympy as sym\n",
        "from IPython.display import display, Math\n",
        "sym.init_printing()\n",
        "\n",
        "mu,alpha = sym.symbols('mu,alpha')\n",
        "\n",
        "expr = 2*sym.exp(mu**2/alpha)\n",
        "\n",
        "display(Math( sym.latex(expr) ))"
      ],
      "execution_count": null,
      "outputs": [
        {
          "output_type": "display_data",
          "data": {
            "text/latex": "$$2 e^{\\frac{\\mu^{2}}{\\alpha}}$$",
            "text/plain": [
              "<IPython.core.display.Math object>"
            ]
          },
          "metadata": {
            "tags": []
          }
        }
      ]
    },
    {
      "cell_type": "code",
      "metadata": {
        "colab": {
          "base_uri": "https://localhost:8080/",
          "height": 41
        },
        "id": "tPwJA3mX5usc",
        "outputId": "cbef3fce-53e4-424e-cf67-3358d1430af3"
      },
      "source": [
        "Math('1234 + \\\\frac{3x}{\\\\sin(2\\\\pi t+\\\\theta)}')"
      ],
      "execution_count": null,
      "outputs": [
        {
          "output_type": "execute_result",
          "data": {
            "text/latex": "$$1234 + \\frac{3x}{\\sin(2\\pi t+\\theta)}$$",
            "text/plain": [
              "<IPython.core.display.Math object>"
            ]
          },
          "metadata": {
            "tags": []
          },
          "execution_count": 6
        }
      ]
    },
    {
      "cell_type": "code",
      "metadata": {
        "colab": {
          "base_uri": "https://localhost:8080/"
        },
        "id": "e7VJaMxJ5usc",
        "outputId": "e2a650e7-26b8-428e-f2d0-1acf3f486276"
      },
      "source": [
        "a = 3\n",
        "b = 4\n",
        "\n",
        "# answer should be 7\n",
        "print(sym.sympify(a+b))"
      ],
      "execution_count": null,
      "outputs": [
        {
          "output_type": "stream",
          "text": [
            "7\n"
          ],
          "name": "stdout"
        }
      ]
    },
    {
      "cell_type": "code",
      "metadata": {
        "colab": {
          "base_uri": "https://localhost:8080/",
          "height": 37
        },
        "id": "SzerCjgh5usd",
        "outputId": "eeb85feb-01bb-4778-f61e-91b2f48f6f69"
      },
      "source": [
        "x = sym.symbols('x')\n",
        "sym.Eq( 4*x == 2, 0 )"
      ],
      "execution_count": null,
      "outputs": [
        {
          "output_type": "execute_result",
          "data": {
            "text/latex": "$\\displaystyle \\text{False}$",
            "text/plain": [
              "False"
            ]
          },
          "metadata": {
            "tags": []
          },
          "execution_count": 15
        }
      ]
    },
    {
      "cell_type": "code",
      "metadata": {
        "colab": {
          "base_uri": "https://localhost:8080/",
          "height": 60
        },
        "id": "njL_qcFT5usd",
        "outputId": "2644b9ba-ab08-4ba0-ff6f-53cf21ff21a9"
      },
      "source": [
        "# part 1 of 2\n",
        "\n",
        "q = x**2\n",
        "r = x**2\n",
        "\n",
        "display(q)\n",
        "display(r)"
      ],
      "execution_count": null,
      "outputs": [
        {
          "output_type": "display_data",
          "data": {
            "image/png": "[encoded data removed]",
            "text/latex": "$\\displaystyle x^{2}$",
            "text/plain": [
              " 2\n",
              "x "
            ]
          },
          "metadata": {
            "tags": []
          }
        },
        {
          "output_type": "display_data",
          "data": {
            "image/png": "[encoded data removed]",
            "text/latex": "$\\displaystyle x^{2}$",
            "text/plain": [
              " 2\n",
              "x "
            ]
          },
          "metadata": {
            "tags": []
          }
        }
      ]
    },
    {
      "cell_type": "code",
      "metadata": {
        "colab": {
          "base_uri": "https://localhost:8080/",
          "height": 80
        },
        "id": "KDOpQduW5use",
        "outputId": "ad21ab02-3a0b-4685-9cbd-022b5b5ff257"
      },
      "source": [
        "# part 2 of 2\n",
        "\n",
        "q,r = sym.symbols('q,r')\n",
        "\n",
        "q = sym.sympify('x^2')\n",
        "r = sym.sympify('x**2')\n",
        "\n",
        "display(q)\n",
        "display(r)\n",
        "\n",
        "sym.Eq(q,r)"
      ],
      "execution_count": null,
      "outputs": [
        {
          "output_type": "display_data",
          "data": {
            "image/png": "[encoded data removed]",
            "text/latex": "$\\displaystyle x^{2}$",
            "text/plain": [
              " 2\n",
              "x "
            ]
          },
          "metadata": {
            "tags": []
          }
        },
        {
          "output_type": "display_data",
          "data": {
            "image/png": "[encoded data removed]",
            "text/latex": "$\\displaystyle x^{2}$",
            "text/plain": [
              " 2\n",
              "x "
            ]
          },
          "metadata": {
            "tags": []
          }
        },
        {
          "output_type": "execute_result",
          "data": {
            "text/latex": "$\\displaystyle \\text{True}$",
            "text/plain": [
              "True"
            ]
          },
          "metadata": {
            "tags": []
          },
          "execution_count": 18
        }
      ]
    },
    {
      "cell_type": "code",
      "metadata": {
        "colab": {
          "base_uri": "https://localhost:8080/",
          "height": 61
        },
        "id": "8-ZUYGTN5use",
        "outputId": "657ce4ba-b199-4834-dbb9-f7b0257c8e07"
      },
      "source": [
        "x = sym.symbols('x')\n",
        "\n",
        "equation = (4*x**2 - 5*x + 10)**(1/2)\n",
        "display(equation)\n",
        "equation.subs(x,3)"
      ],
      "execution_count": null,
      "outputs": [
        {
          "output_type": "display_data",
          "data": {
            "image/png": "[encoded data removed]",
            "text/latex": "$\\displaystyle \\left(4 x^{2} - 5 x + 10\\right)^{0.5}$",
            "text/plain": [
              "                 0.5\n",
              "⎛   2           ⎞   \n",
              "⎝4⋅x  - 5⋅x + 10⎠   "
            ]
          },
          "metadata": {
            "tags": []
          }
        },
        {
          "output_type": "execute_result",
          "data": {
            "image/png": "[encoded data removed]",
            "text/latex": "$\\displaystyle 5.56776436283002$",
            "text/plain": [
              "5.56776436283002"
            ]
          },
          "metadata": {
            "tags": []
          },
          "execution_count": 23
        }
      ]
    },
    {
      "cell_type": "code",
      "metadata": {
        "colab": {
          "base_uri": "https://localhost:8080/",
          "height": 41
        },
        "id": "oGAFmQEy5usf",
        "outputId": "0fdf7614-df9c-428b-c52c-8461fecea3c2"
      },
      "source": [
        "x,y = sym.symbols('x,y')\n",
        "\n",
        "equation = 1/4*x*y**2 - x*(5*x + 10*y**2)**(3)\n",
        "display(equation)"
      ],
      "execution_count": null,
      "outputs": [
        {
          "output_type": "display_data",
          "data": {
            "image/png": "[encoded data removed]",
            "text/latex": "$\\displaystyle 0.25 x y^{2} - x \\left(5 x + 10 y^{2}\\right)^{3}$",
            "text/plain": [
              "                           3\n",
              "        2     ⎛          2⎞ \n",
              "0.25⋅x⋅y  - x⋅⎝5⋅x + 10⋅y ⎠ "
            ]
          },
          "metadata": {
            "tags": []
          }
        }
      ]
    }
  ]
}